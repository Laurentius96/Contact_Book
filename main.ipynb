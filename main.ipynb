{
  "nbformat": 4,
  "nbformat_minor": 0,
  "metadata": {
    "colab": {
      "provenance": []
    },
    "kernelspec": {
      "name": "python3",
      "display_name": "Python 3"
    },
    "language_info": {
      "name": "python"
    }
  },
  "cells": [
    {
      "cell_type": "code",
      "execution_count": 8,
      "metadata": {
        "id": "7Gty9eJaSM8R",
        "colab": {
          "base_uri": "https://localhost:8080/"
        },
        "outputId": "25b88112-2043-4c3f-baa9-1e8bff7fc50d"
      },
      "outputs": [
        {
          "name": "stdout",
          "output_type": "stream",
          "text": [
            "Welcome to the contact book!\n",
            "\n",
            "\n",
            "=======Menu=======\n",
            "1. Add a contact\n",
            "2. List the contacts\n",
            "3. Exit\n",
            "==================\n",
            "\n",
            "Type (1-3) options: 3\n"
          ]
        }
      ],
      "source": [
        "book = []\n",
        "print(\"Welcome to the contact book!\")\n",
        "\n",
        "while True:\n",
        "  print(\"\\n\")\n",
        "  print(\"=======Menu=======\")\n",
        "  print(\"1. Add a contact\")\n",
        "  print(\"2. List the contacts\")\n",
        "  print(\"3. Exit\")\n",
        "  print(\"==================\")\n",
        "  option = int(input(\"\\nType (1-3) options: \"))\n",
        "\n",
        "  if option == 3:\n",
        "    break\n",
        "\n",
        "  elif option == 1:\n",
        "    print(\"\\n\")\n",
        "    name = input(\"Enter the contact's name: \")\n",
        "    phone = input(\"Enter the contact's phone number: \")\n",
        "    email = input(\"Enter the contact's e-mail: \")\n",
        "\n",
        "    contact = {\n",
        "        \"name\": name,\n",
        "        \"phone\": phone,\n",
        "        \"email\": email\n",
        "    }\n",
        "    book.append(contact)\n",
        "    print(\"\\n>>> Contact added successfully! <<<\")\n",
        "\n",
        "  elif option == 2:\n",
        "    for contact in book:\n",
        "      print(\"\\n\")\n",
        "      print(f\"Name: {contact['name']}\")\n",
        "      print(f\"Phone Number: {contact['phone']}\")\n",
        "      print(f\"E-mail: {contact['email']}\")\n",
        "\n",
        "  else:\n",
        "    print(\">>> Invalid option! <<<\")\n",
        "\n",
        "\n",
        "\n"
      ]
    },
    {
      "cell_type": "code",
      "source": [],
      "metadata": {
        "id": "aHQiiAcVgwU9"
      },
      "execution_count": null,
      "outputs": []
    }
  ]
}